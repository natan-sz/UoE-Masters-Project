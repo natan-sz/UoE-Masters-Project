{
 "cells": [
  {
   "cell_type": "markdown",
   "metadata": {},
   "source": [
    "# Week 1\n",
    "\n",
    "Planned where the project is going to go \n",
    "\n",
    "# Week 2\n",
    "\n",
    "Set up evnironment for development with others UBUNTU Server 18.04 \n",
    "\n",
    "# Week 3\n",
    "\n",
    "Opened the environment for everyone else using SSH and ran Simple-NN code\n",
    "\n",
    "# Week 4\n",
    "\n",
    "Got access to University Supercomputer VPN securepulse\n",
    "\n",
    "# Week 5 \n",
    "\n",
    "Used the output of SIMPLE-NN to run a SiO simulation in lammps and \n",
    "\n",
    "# Week 6\n",
    "\n",
    "Direction of project unclear, Emailed Steve Hepplestone about it \n",
    "<Insert Steves email here>\n",
    "\n"
   ]
  }
 ],
 "metadata": {
  "kernelspec": {
   "display_name": "Python 3",
   "language": "python",
   "name": "python3"
  },
  "language_info": {
   "codemirror_mode": {
    "name": "ipython",
    "version": 3
   },
   "file_extension": ".py",
   "mimetype": "text/x-python",
   "name": "python",
   "nbconvert_exporter": "python",
   "pygments_lexer": "ipython3",
   "version": "3.6.9"
  }
 },
 "nbformat": 4,
 "nbformat_minor": 4
}
