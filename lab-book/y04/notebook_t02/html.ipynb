{
 "cells": [
  {
   "cell_type": "markdown",
   "metadata": {},
   "source": [
    "<h1 style=\"margin-bottom: 0.2em;text-align:center\"> MPhys Project - Machine Learned Potentials For MD Simulations\n",
    "<h2 style=\"margin-top: 0.2em;text-align:center\"> University of Exeter EMPS\n",
    "<h3 style=\"margin-top: 0.2em;text-align:center\"> Natan Szczepaniak<h4 style=\"margin-top: 0.2em;text-align:center\"> Supervisor: Prof. Saverio Russo"
   ]
  },
  {
   "cell_type": "markdown",
   "metadata": {},
   "source": [
    "<h2 style=\"margin-top: 0.2em;text-align:center\"> <ins>Week 1 (21/09/20-27/09/20)<ins></h2><br>"
   ]
  }
 ],
 "metadata": {
  "kernelspec": {
   "display_name": "Python 3",
   "language": "python",
   "name": "python3"
  },
  "language_info": {
   "codemirror_mode": {
    "name": "ipython",
    "version": 3
   },
   "file_extension": ".py",
   "mimetype": "text/x-python",
   "name": "python",
   "nbconvert_exporter": "python",
   "pygments_lexer": "ipython3",
   "version": "3.6.9"
  }
 },
 "nbformat": 4,
 "nbformat_minor": 4
}
